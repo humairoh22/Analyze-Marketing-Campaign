{
 "cells": [
  {
   "cell_type": "markdown",
   "id": "9a9ada08-c9f0-466f-91a0-265fa539f9f5",
   "metadata": {},
   "source": [
    "# Where to focus a marketing campaign?\n",
    "\n",
    "## 📖 Background\n",
    "You are a data analyst at a crowdfunding site. For the next quarter, your company will be running a marketing campaign. The marketing manager wants to target those segments that have donated the most in the past year. She turned to you to help her with her upcoming meeting with the CEO."
   ]
  },
  {
   "cell_type": "markdown",
   "id": "10dcc269-3659-4851-99cd-f1ffb7f818aa",
   "metadata": {
    "tags": []
   },
   "source": [
    "## 💾 The data\n",
    "You have access to the following information:\n",
    "\n",
    "#### Historic crowdfunding donations\n",
    "- \"category\" - \"Sports\", \"Fashion\", \"Technology\", etc.\n",
    "- \"device\" - the type of device used.\n",
    "- \"gender\" - gender of the user.\n",
    "- \"age range\" - one of five age brackets.\n",
    "- \"amount\" - how much the user donated in Euros."
   ]
  },
  {
   "cell_type": "code",
   "execution_count": null,
   "id": "40251159-3eea-47f8-bfb4-09e38d5ced65",
   "metadata": {},
   "outputs": [
    {
     "data": {
      "text/html": [
       "<div>\n",
       "<style scoped>\n",
       "    .dataframe tbody tr th:only-of-type {\n",
       "        vertical-align: middle;\n",
       "    }\n",
       "\n",
       "    .dataframe tbody tr th {\n",
       "        vertical-align: top;\n",
       "    }\n",
       "\n",
       "    .dataframe thead th {\n",
       "        text-align: right;\n",
       "    }\n",
       "</style>\n",
       "<table border=\"1\" class=\"dataframe\">\n",
       "  <thead>\n",
       "    <tr style=\"text-align: right;\">\n",
       "      <th></th>\n",
       "      <th>category</th>\n",
       "      <th>device</th>\n",
       "      <th>gender</th>\n",
       "      <th>age</th>\n",
       "      <th>amount</th>\n",
       "    </tr>\n",
       "  </thead>\n",
       "  <tbody>\n",
       "    <tr>\n",
       "      <th>0</th>\n",
       "      <td>Fashion</td>\n",
       "      <td>iOS</td>\n",
       "      <td>F</td>\n",
       "      <td>45-54</td>\n",
       "      <td>61.0</td>\n",
       "    </tr>\n",
       "    <tr>\n",
       "      <th>1</th>\n",
       "      <td>Sports</td>\n",
       "      <td>android</td>\n",
       "      <td>M</td>\n",
       "      <td>18-24</td>\n",
       "      <td>31.0</td>\n",
       "    </tr>\n",
       "    <tr>\n",
       "      <th>2</th>\n",
       "      <td>Technology</td>\n",
       "      <td>android</td>\n",
       "      <td>M</td>\n",
       "      <td>18-24</td>\n",
       "      <td>39.0</td>\n",
       "    </tr>\n",
       "    <tr>\n",
       "      <th>3</th>\n",
       "      <td>Technology</td>\n",
       "      <td>iOS</td>\n",
       "      <td>M</td>\n",
       "      <td>18-24</td>\n",
       "      <td>36.0</td>\n",
       "    </tr>\n",
       "    <tr>\n",
       "      <th>4</th>\n",
       "      <td>Sports</td>\n",
       "      <td>android</td>\n",
       "      <td>M</td>\n",
       "      <td>18-24</td>\n",
       "      <td>40.0</td>\n",
       "    </tr>\n",
       "  </tbody>\n",
       "</table>\n",
       "</div>"
      ],
      "text/plain": [
       "     category   device gender    age  amount\n",
       "0     Fashion      iOS      F  45-54    61.0\n",
       "1      Sports  android      M  18-24    31.0\n",
       "2  Technology  android      M  18-24    39.0\n",
       "3  Technology      iOS      M  18-24    36.0\n",
       "4      Sports  android      M  18-24    40.0"
      ]
     },
     "execution_count": 1,
     "metadata": {},
     "output_type": "execute_result"
    }
   ],
   "source": [
    "import pandas as pd\n",
    "import plotly.express as px\n",
    "df = pd.read_csv('./data/crowdfunding.csv')\n",
    "df.head()"
   ]
  },
  {
   "cell_type": "code",
   "execution_count": null,
   "id": "fd7ec8d7-aab3-4ea2-b5c5-4a29a2e94181",
   "metadata": {},
   "outputs": [],
   "source": []
  },
  {
   "cell_type": "code",
   "execution_count": null,
   "id": "7ef78ac4-1ee0-463c-8ed2-7a47ab1ef898",
   "metadata": {},
   "outputs": [],
   "source": []
  },
  {
   "cell_type": "code",
   "execution_count": null,
   "id": "59efe72e-478b-4833-85df-27b748560abe",
   "metadata": {},
   "outputs": [],
   "source": []
  },
  {
   "cell_type": "markdown",
   "id": "bd339d0b-aa0c-4662-9e34-0b1ea646924e",
   "metadata": {},
   "source": [
    "## 💪 Challenge\n",
    "Create a **single** visualization that the marketing manager can use to explore the data. Include:\n",
    "\n",
    "1. What are the top three categories in terms of total donations? \n",
    "2. What device type has historically provided the most contributions? \n",
    "3. What age bracket should the campaign target?"
   ]
  },
  {
   "cell_type": "markdown",
   "id": "efda8e32-5c7e-48cc-8bd6-83ad3ba72f6e",
   "metadata": {},
   "source": [
    "## 🧑‍⚖️ Judging criteria\n",
    "\n",
    "This is a community-based competition. The top 5 most upvoted entries will win.\n",
    "\n",
    "The winners will receive DataCamp merchandise."
   ]
  },
  {
   "cell_type": "markdown",
   "id": "7fa68a10-14d8-4db9-a473-9efdab8f2fbd",
   "metadata": {},
   "source": [
    "## ✅ Checklist before publishing\n",
    "- Rename your workspace to make it descriptive of your work. N.B. you should leave the notebook name as notebook.ipynb.\n",
    "- Remove redundant cells like the judging criteria, so the workbook is focused on your answers.\n",
    "- Check that all the cells run without error."
   ]
  },
  {
   "cell_type": "markdown",
   "id": "3bef7acb-5b00-4282-8c3e-1aa34bf4b7df",
   "metadata": {},
   "source": [
    "## ⌛️ Time is ticking. Good luck!"
   ]
  },
  {
   "cell_type": "code",
   "execution_count": null,
   "id": "39b5f160-2954-4ff3-a8f5-55b066f7782e",
   "metadata": {},
   "outputs": [
    {
     "ename": "NameError",
     "evalue": "name 'df' is not defined",
     "output_type": "error",
     "traceback": [
      "\u001b[0;31m---------------------------------------------------------------------------\u001b[0m",
      "\u001b[0;31mNameError\u001b[0m                                 Traceback (most recent call last)",
      "\u001b[0;32m/tmp/ipykernel_1571/3771845804.py\u001b[0m in \u001b[0;36m<module>\u001b[0;34m\u001b[0m\n\u001b[0;32m----> 1\u001b[0;31m \u001b[0mdf\u001b[0m\u001b[0;34m.\u001b[0m\u001b[0minfo\u001b[0m\u001b[0;34m(\u001b[0m\u001b[0;34m)\u001b[0m\u001b[0;34m\u001b[0m\u001b[0;34m\u001b[0m\u001b[0m\n\u001b[0m",
      "\u001b[0;31mNameError\u001b[0m: name 'df' is not defined"
     ]
    }
   ],
   "source": [
    "df.info()"
   ]
  }
 ],
 "metadata": {
  "kernelspec": {
   "display_name": "Python 3 (ipykernel)",
   "language": "python",
   "name": "python3"
  },
  "language_info": {
   "codemirror_mode": {
    "name": "ipython",
    "version": 3
   },
   "file_extension": ".py",
   "mimetype": "text/x-python",
   "name": "python",
   "nbconvert_exporter": "python",
   "pygments_lexer": "ipython3",
   "version": "3.8.10"
  }
 },
 "nbformat": 4,
 "nbformat_minor": 5
}
